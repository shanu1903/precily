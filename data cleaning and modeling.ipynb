{
 "cells": [
  {
   "cell_type": "code",
   "execution_count": 216,
   "metadata": {
    "collapsed": true
   },
   "outputs": [],
   "source": [
    "import pandas as pd\n",
    "from nltk.corpus import stopwords\n",
    "import string\n",
    "import re\n",
    "from sklearn.model_selection import train_test_split\n",
    "from sklearn import preprocessing\n",
    "import seaborn as sns\n",
    "import matplotlib.pyplot as plt\n",
    "%matplotlib inline"
   ]
  },
  {
   "cell_type": "code",
   "execution_count": 2,
   "metadata": {
    "collapsed": true
   },
   "outputs": [],
   "source": [
    " df = pd.read_csv(\"youtube.csv\" ,header=None ,encoding = 'ISO-8859-1')"
   ]
  },
  {
   "cell_type": "code",
   "execution_count": 4,
   "metadata": {
    "collapsed": true
   },
   "outputs": [],
   "source": [
    "df.columns = [\"Video id \" ,\"Title\" , \"Description\" , \"Category\"]"
   ]
  },
  {
   "cell_type": "code",
   "execution_count": 6,
   "metadata": {
    "scrolled": true
   },
   "outputs": [
    {
     "data": {
      "text/html": [
       "<div>\n",
       "<style>\n",
       "    .dataframe thead tr:only-child th {\n",
       "        text-align: right;\n",
       "    }\n",
       "\n",
       "    .dataframe thead th {\n",
       "        text-align: left;\n",
       "    }\n",
       "\n",
       "    .dataframe tbody tr th {\n",
       "        vertical-align: top;\n",
       "    }\n",
       "</style>\n",
       "<table border=\"1\" class=\"dataframe\">\n",
       "  <thead>\n",
       "    <tr style=\"text-align: right;\">\n",
       "      <th></th>\n",
       "      <th>Video id</th>\n",
       "      <th>Title</th>\n",
       "      <th>Description</th>\n",
       "      <th>Category</th>\n",
       "    </tr>\n",
       "  </thead>\n",
       "  <tbody>\n",
       "    <tr>\n",
       "      <th>0</th>\n",
       "      <td>13E5azGDK1k</td>\n",
       "      <td>FINE ART Music and Painting PEACEFUL SELECTION...</td>\n",
       "      <td>CALM MELODIES AND BEAUTIFUL PICTURESDebussy  M...</td>\n",
       "      <td>Art and Music</td>\n",
       "    </tr>\n",
       "    <tr>\n",
       "      <th>1</th>\n",
       "      <td>tsKlRF2Gw1s</td>\n",
       "      <td>The Great Masterpieces of Art &amp; Music</td>\n",
       "      <td>Skip the art museum and come experience Great...</td>\n",
       "      <td>Art and Music</td>\n",
       "    </tr>\n",
       "    <tr>\n",
       "      <th>2</th>\n",
       "      <td>rrJbuF6zOIk</td>\n",
       "      <td>babyfirst art and music</td>\n",
       "      <td>NaN</td>\n",
       "      <td>Art and Music</td>\n",
       "    </tr>\n",
       "    <tr>\n",
       "      <th>3</th>\n",
       "      <td>5mWjq2BsD9Q</td>\n",
       "      <td>Improvised Piano Music and Emotional Art Thera...</td>\n",
       "      <td>When watching this special episode of The Perf...</td>\n",
       "      <td>Art and Music</td>\n",
       "    </tr>\n",
       "    <tr>\n",
       "      <th>4</th>\n",
       "      <td>x7HPg9eZRY0</td>\n",
       "      <td>Sanjeev Abhyankar | Rakesh Chaurasia | Hindust...</td>\n",
       "      <td>Sanjeev Abhyankar and Rakesh Chaurasia rendere...</td>\n",
       "      <td>Art and Music</td>\n",
       "    </tr>\n",
       "  </tbody>\n",
       "</table>\n",
       "</div>"
      ],
      "text/plain": [
       "     Video id                                               Title  \\\n",
       "0  13E5azGDK1k  FINE ART Music and Painting PEACEFUL SELECTION...   \n",
       "1  tsKlRF2Gw1s              The Great Masterpieces of Art & Music   \n",
       "2  rrJbuF6zOIk                            babyfirst art and music   \n",
       "3  5mWjq2BsD9Q  Improvised Piano Music and Emotional Art Thera...   \n",
       "4  x7HPg9eZRY0  Sanjeev Abhyankar | Rakesh Chaurasia | Hindust...   \n",
       "\n",
       "                                         Description       Category  \n",
       "0  CALM MELODIES AND BEAUTIFUL PICTURESDebussy  M...  Art and Music  \n",
       "1  Skip the art museum and come experience Great...  Art and Music  \n",
       "2                                                NaN  Art and Music  \n",
       "3  When watching this special episode of The Perf...  Art and Music  \n",
       "4  Sanjeev Abhyankar and Rakesh Chaurasia rendere...  Art and Music  "
      ]
     },
     "execution_count": 6,
     "metadata": {},
     "output_type": "execute_result"
    }
   ],
   "source": [
    "df.head()"
   ]
  },
  {
   "cell_type": "code",
   "execution_count": 7,
   "metadata": {
    "collapsed": true
   },
   "outputs": [],
   "source": [
    "df[\"Description\"].fillna(df[\"Title\"] , inplace = True)  #filling nan values with same as title"
   ]
  },
  {
   "cell_type": "code",
   "execution_count": 10,
   "metadata": {},
   "outputs": [],
   "source": [
    "def removeLinks(text):\n",
    "    text = re.sub(r'<[^>]+>' , \"\" , text)  # remove any html tag in string\n",
    "    text = re.sub(r'\\w+:\\/{2}[\\d\\w-]+(\\.[\\d\\w-]+)*(?:(?:\\/[^\\s/]*))*', '', text)  # remove links from string\n",
    "    text = re.sub(r'\\S*@\\S*\\s?' , \"\" , text) # remove email addresses from string\n",
    "    return text\n",
    "df['Description'] = df['Description'].apply(removeLinks)"
   ]
  },
  {
   "cell_type": "code",
   "execution_count": 12,
   "metadata": {},
   "outputs": [],
   "source": [
    "stop = stopwords.words('english')\n",
    "pun = list(string.punctuation)"
   ]
  },
  {
   "cell_type": "code",
   "execution_count": 13,
   "metadata": {
    "collapsed": true
   },
   "outputs": [],
   "source": [
    "stop = stop + pun"
   ]
  },
  {
   "cell_type": "code",
   "execution_count": 18,
   "metadata": {},
   "outputs": [],
   "source": [
    "# removing individual punctuation symbols and stop words\n",
    "def removestop(text):\n",
    "    text = text.split()\n",
    "    l = [word.lower() for word in text if word.lower() not in stop]\n",
    "    return \" \".join(l)\n",
    "df['Description'] = df['Description'].apply(removestop)"
   ]
  },
  {
   "cell_type": "code",
   "execution_count": 80,
   "metadata": {},
   "outputs": [],
   "source": [
    "# removing all punctuation symbols that come in between words like: hell?heaven\n",
    "def removepun(text):\n",
    "    text = text.split(\" \")\n",
    "    li = []\n",
    "    for word in text:\n",
    "        for i in word:\n",
    "            if i in pun:\n",
    "                word = word.replace(i , \"\")\n",
    "        li.append(word)\n",
    "    return \" \".join(li)\n",
    "df['Description'] = df['Description'].apply(removepun)"
   ]
  },
  {
   "cell_type": "code",
   "execution_count": 177,
   "metadata": {},
   "outputs": [],
   "source": [
    "x_train , x_test , y_train , y_test =train_test_split(df.iloc[0: , 0:3] , df.iloc[0:,3:4] , test_size = 0.1 , random_state = 0)"
   ]
  },
  {
   "cell_type": "code",
   "execution_count": 154,
   "metadata": {},
   "outputs": [
    {
     "name": "stdout",
     "output_type": "stream",
     "text": [
      "(2456, 3) (273, 3) (2456, 1) (273, 1)\n"
     ]
    }
   ],
   "source": [
    "print(x_train.shape , x_test.shape , y_train.shape , y_test.shape)"
   ]
  },
  {
   "cell_type": "code",
   "execution_count": 178,
   "metadata": {},
   "outputs": [
    {
     "name": "stderr",
     "output_type": "stream",
     "text": [
      "C:\\Users\\sssha\\Anaconda3\\lib\\site-packages\\sklearn\\preprocessing\\label.py:111: DataConversionWarning: A column-vector y was passed when a 1d array was expected. Please change the shape of y to (n_samples, ), for example using ravel().\n",
      "  y = column_or_1d(y, warn=True)\n"
     ]
    }
   ],
   "source": [
    "from sklearn.feature_extraction.text import TfidfVectorizer\n",
    "v = TfidfVectorizer(max_features=3500)\n",
    "\n",
    "train_features = v.fit_transform(x_train['Description'])\n",
    "encoder = preprocessing.LabelEncoder()\n",
    "y_train = encoder.fit_transform(y_train)\n",
    "y_test = encoder.fit_transform(y_test)\n",
    "test_features = v.transform(x_test['Description'])"
   ]
  },
  {
   "cell_type": "markdown",
   "metadata": {},
   "source": [
    "# Category 1 Naive Bayes\n"
   ]
  },
  {
   "cell_type": "code",
   "execution_count": 182,
   "metadata": {},
   "outputs": [
    {
     "data": {
      "text/plain": [
       "0.8058608058608059"
      ]
     },
     "execution_count": 182,
     "metadata": {},
     "output_type": "execute_result"
    }
   ],
   "source": [
    "from sklearn.naive_bayes import MultinomialNB\n",
    "multinomial = MultinomialNB()\n",
    "multinomial.fit(train_features, y_train)\n",
    "multinomial.score(test_features, y_test)"
   ]
  },
  {
   "cell_type": "markdown",
   "metadata": {},
   "source": [
    "# Category 2 boosting models "
   ]
  },
  {
   "cell_type": "code",
   "execution_count": 184,
   "metadata": {
    "scrolled": true
   },
   "outputs": [
    {
     "data": {
      "text/plain": [
       "0.8571428571428571"
      ]
     },
     "execution_count": 184,
     "metadata": {},
     "output_type": "execute_result"
    }
   ],
   "source": [
    "from sklearn.ensemble import GradientBoostingClassifier\n",
    "gradient=GradientBoostingClassifier(n_estimators=100,random_state=0,learning_rate=0.1)\n",
    "gradient.fit(train_features, y_train)\n",
    "gradient.score(test_features, y_test)"
   ]
  },
  {
   "cell_type": "code",
   "execution_count": 185,
   "metadata": {},
   "outputs": [
    {
     "name": "stderr",
     "output_type": "stream",
     "text": [
      "C:\\Users\\sssha\\Anaconda3\\lib\\site-packages\\h5py\\__init__.py:34: FutureWarning: Conversion of the second argument of issubdtype from `float` to `np.floating` is deprecated. In future, it will be treated as `np.float64 == np.dtype(float).type`.\n",
      "  from ._conv import register_converters as _register_converters\n",
      "Using TensorFlow backend.\n"
     ]
    }
   ],
   "source": [
    "from keras.preprocessing.text import Tokenizer\n",
    "from keras.preprocessing.sequence import pad_sequences\n",
    "from keras.models import Sequential\n",
    "from keras.layers import Dense, Flatten, LSTM, Conv1D, MaxPooling1D, Dropout, Activation\n",
    "from keras.layers.embeddings import Embedding"
   ]
  },
  {
   "cell_type": "code",
   "execution_count": 200,
   "metadata": {},
   "outputs": [
    {
     "name": "stdout",
     "output_type": "stream",
     "text": [
      "Train on 1473 samples, validate on 983 samples\n",
      "Epoch 1/3\n",
      "1473/1473 [==============================] - 670s 455ms/step - loss: -12.7399 - acc: 0.1270 - val_loss: -21.2133 - val_acc: 0.1292\n",
      "Epoch 2/3\n",
      "1473/1473 [==============================] - 675s 458ms/step - loss: -21.3106 - acc: 0.1270 - val_loss: -21.2133 - val_acc: 0.1292\n",
      "Epoch 3/3\n",
      "1473/1473 [==============================] - 710s 482ms/step - loss: -21.3106 - acc: 0.1270 - val_loss: -21.2133 - val_acc: 0.1292\n"
     ]
    },
    {
     "data": {
      "text/plain": [
       "<keras.callbacks.History at 0x1b4314c2780>"
      ]
     },
     "execution_count": 200,
     "metadata": {},
     "output_type": "execute_result"
    }
   ],
   "source": [
    "def create_conv_model():\n",
    "    model_conv = Sequential()\n",
    "    model_conv.add(Embedding(3500, 100, input_length=3500))\n",
    "    model_conv.add(Dropout(0.2))\n",
    "    model_conv.add(Conv1D(64, 5, activation='relu'))\n",
    "    model_conv.add(MaxPooling1D(pool_size=4))\n",
    "    model_conv.add(LSTM(100))\n",
    "    model_conv.add(Dense(1, activation='sigmoid'))\n",
    "    model_conv.compile(loss='binary_crossentropy', optimizer='adam',    metrics=['accuracy'])\n",
    "    return model_conv\n",
    "model_conv = create_conv_model()\n",
    "model_conv.fit(train_features, y_train, validation_split=0.4, epochs = 3)"
   ]
  },
  {
   "cell_type": "markdown",
   "metadata": {},
   "source": [
    "#  precision, recall, and F1 Score"
   ]
  },
  {
   "cell_type": "code",
   "execution_count": 201,
   "metadata": {},
   "outputs": [],
   "source": [
    "from sklearn.metrics import recall_score,precision_score,f1_score"
   ]
  },
  {
   "cell_type": "code",
   "execution_count": 204,
   "metadata": {},
   "outputs": [],
   "source": [
    "y_multinomial = multinomial.predict(test_features)\n",
    "y_gradient = gradient.predict(test_features)"
   ]
  },
  {
   "cell_type": "code",
   "execution_count": 206,
   "metadata": {},
   "outputs": [],
   "source": [
    "multinomial_recall = recall_score(y_test,y_multinomial,average='micro')\n",
    "multinomial_precision = precision_score(y_test,y_multinomial,average='micro')\n",
    "multinomial_f1 = f1_score(y_test,y_multinomial,average='micro')"
   ]
  },
  {
   "cell_type": "code",
   "execution_count": 208,
   "metadata": {
    "collapsed": true
   },
   "outputs": [],
   "source": [
    "gradient_recall = recall_score(y_test,y_gradient,average='micro')\n",
    "gradient_precision = precision_score(y_test,y_gradient,average='micro')\n",
    "gradient_f1 = f1_score(y_test,y_gradient,average='micro')"
   ]
  },
  {
   "cell_type": "code",
   "execution_count": 209,
   "metadata": {},
   "outputs": [],
   "source": [
    "data = [[multinomial_recall,multinomial_precision,multinomial_f1,'Multinomial Naive bayes'],[gradient_recall,gradient_precision,gradient_f1,'bagging']]\n",
    "df = pd.DataFrame(data,columns=['Precision','Recall','f1-score','Model'])"
   ]
  },
  {
   "cell_type": "code",
   "execution_count": 223,
   "metadata": {},
   "outputs": [
    {
     "data": {
      "image/png": "[encoded data removed]",
      "text/plain": [
       "<matplotlib.figure.Figure at 0x1b43bf61160>"
      ]
     },
     "metadata": {},
     "output_type": "display_data"
    }
   ],
   "source": [
    "sns.barplot(y='Precision',x='Model',data=df , palette = \"spring\" , hue = \"Model\")\n",
    "plt.title('Precision Comparison')\n",
    "f = plt.gcf()"
   ]
  },
  {
   "cell_type": "code",
   "execution_count": 225,
   "metadata": {},
   "outputs": [
    {
     "data": {
      "image/png": "[encoded data removed]",
      "text/plain": [
       "<matplotlib.figure.Figure at 0x1b43c02e198>"
      ]
     },
     "metadata": {},
     "output_type": "display_data"
    }
   ],
   "source": [
    "sns.barplot(y='Recall',x='Model',data=df , palette = \"spring\" , hue = \"Model\")\n",
    "plt.title('Recall Comparison')\n",
    "f = plt.gcf()"
   ]
  },
  {
   "cell_type": "code",
   "execution_count": 227,
   "metadata": {},
   "outputs": [
    {
     "data": {
      "image/png": "[encoded data removed]",
      "text/plain": [
       "<matplotlib.figure.Figure at 0x1b43c0dd048>"
      ]
     },
     "metadata": {},
     "output_type": "display_data"
    }
   ],
   "source": [
    "sns.barplot(y='f1-score',x='Model',data=df , palette = \"spring\" , hue = \"Model\")\n",
    "plt.title('F1-score Comparison')\n",
    "f = plt.gcf()"
   ]
  },
  {
   "cell_type": "code",
   "execution_count": null,
   "metadata": {},
   "outputs": [],
   "source": []
  }
 ],
 "metadata": {
  "kernelspec": {
   "display_name": "Python 3",
   "language": "python",
   "name": "python3"
  },
  "language_info": {
   "codemirror_mode": {
    "name": "ipython",
    "version": 3
   },
   "file_extension": ".py",
   "mimetype": "text/x-python",
   "name": "python",
   "nbconvert_exporter": "python",
   "pygments_lexer": "ipython3",
   "version": "3.6.3"
  }
 },
 "nbformat": 4,
 "nbformat_minor": 2
}
