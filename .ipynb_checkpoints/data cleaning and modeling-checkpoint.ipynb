{
 "cells": [
  {
   "cell_type": "code",
   "execution_count": 2,
   "metadata": {
    "collapsed": true
   },
   "outputs": [],
   "source": [
    "import pandas as pd"
   ]
  },
  {
   "cell_type": "code",
   "execution_count": 3,
   "metadata": {
    "collapsed": true
   },
   "outputs": [],
   "source": [
    " df = pd.read_csv(\"youtube.csv\" ,header=None ,encoding = 'ISO-8859-1')"
   ]
  },
  {
   "cell_type": "code",
   "execution_count": 4,
   "metadata": {},
   "outputs": [
    {
     "data": {
      "text/html": [
       "<div>\n",
       "<style>\n",
       "    .dataframe thead tr:only-child th {\n",
       "        text-align: right;\n",
       "    }\n",
       "\n",
       "    .dataframe thead th {\n",
       "        text-align: left;\n",
       "    }\n",
       "\n",
       "    .dataframe tbody tr th {\n",
       "        vertical-align: top;\n",
       "    }\n",
       "</style>\n",
       "<table border=\"1\" class=\"dataframe\">\n",
       "  <thead>\n",
       "    <tr style=\"text-align: right;\">\n",
       "      <th></th>\n",
       "      <th>0</th>\n",
       "      <th>1</th>\n",
       "      <th>2</th>\n",
       "      <th>3</th>\n",
       "    </tr>\n",
       "  </thead>\n",
       "  <tbody>\n",
       "    <tr>\n",
       "      <th>0</th>\n",
       "      <td>13E5azGDK1k</td>\n",
       "      <td>FINE ART Music and Painting PEACEFUL SELECTION...</td>\n",
       "      <td>CALM MELODIES AND BEAUTIFUL PICTURESDebussy  M...</td>\n",
       "      <td>Art and Music</td>\n",
       "    </tr>\n",
       "    <tr>\n",
       "      <th>1</th>\n",
       "      <td>tsKlRF2Gw1s</td>\n",
       "      <td>The Great Masterpieces of Art &amp; Music</td>\n",
       "      <td>Skip the art museum and come experience Great...</td>\n",
       "      <td>Art and Music</td>\n",
       "    </tr>\n",
       "    <tr>\n",
       "      <th>2</th>\n",
       "      <td>rrJbuF6zOIk</td>\n",
       "      <td>babyfirst art and music</td>\n",
       "      <td>NaN</td>\n",
       "      <td>Art and Music</td>\n",
       "    </tr>\n",
       "    <tr>\n",
       "      <th>3</th>\n",
       "      <td>5mWjq2BsD9Q</td>\n",
       "      <td>Improvised Piano Music and Emotional Art Thera...</td>\n",
       "      <td>When watching this special episode of The Perf...</td>\n",
       "      <td>Art and Music</td>\n",
       "    </tr>\n",
       "    <tr>\n",
       "      <th>4</th>\n",
       "      <td>x7HPg9eZRY0</td>\n",
       "      <td>Sanjeev Abhyankar | Rakesh Chaurasia | Hindust...</td>\n",
       "      <td>Sanjeev Abhyankar and Rakesh Chaurasia rendere...</td>\n",
       "      <td>Art and Music</td>\n",
       "    </tr>\n",
       "  </tbody>\n",
       "</table>\n",
       "</div>"
      ],
      "text/plain": [
       "             0                                                  1  \\\n",
       "0  13E5azGDK1k  FINE ART Music and Painting PEACEFUL SELECTION...   \n",
       "1  tsKlRF2Gw1s              The Great Masterpieces of Art & Music   \n",
       "2  rrJbuF6zOIk                            babyfirst art and music   \n",
       "3  5mWjq2BsD9Q  Improvised Piano Music and Emotional Art Thera...   \n",
       "4  x7HPg9eZRY0  Sanjeev Abhyankar | Rakesh Chaurasia | Hindust...   \n",
       "\n",
       "                                                   2              3  \n",
       "0  CALM MELODIES AND BEAUTIFUL PICTURESDebussy  M...  Art and Music  \n",
       "1  Skip the art museum and come experience Great...  Art and Music  \n",
       "2                                                NaN  Art and Music  \n",
       "3  When watching this special episode of The Perf...  Art and Music  \n",
       "4  Sanjeev Abhyankar and Rakesh Chaurasia rendere...  Art and Music  "
      ]
     },
     "execution_count": 4,
     "metadata": {},
     "output_type": "execute_result"
    }
   ],
   "source": [
    "df.head()"
   ]
  },
  {
   "cell_type": "code",
   "execution_count": 5,
   "metadata": {},
   "outputs": [
    {
     "data": {
      "text/html": [
       "<div>\n",
       "<style>\n",
       "    .dataframe thead tr:only-child th {\n",
       "        text-align: right;\n",
       "    }\n",
       "\n",
       "    .dataframe thead th {\n",
       "        text-align: left;\n",
       "    }\n",
       "\n",
       "    .dataframe tbody tr th {\n",
       "        vertical-align: top;\n",
       "    }\n",
       "</style>\n",
       "<table border=\"1\" class=\"dataframe\">\n",
       "  <thead>\n",
       "    <tr style=\"text-align: right;\">\n",
       "      <th></th>\n",
       "      <th>0</th>\n",
       "      <th>1</th>\n",
       "      <th>2</th>\n",
       "      <th>3</th>\n",
       "    </tr>\n",
       "  </thead>\n",
       "  <tbody>\n",
       "    <tr>\n",
       "      <th>count</th>\n",
       "      <td>2729</td>\n",
       "      <td>2729</td>\n",
       "      <td>2581</td>\n",
       "      <td>2729</td>\n",
       "    </tr>\n",
       "    <tr>\n",
       "      <th>unique</th>\n",
       "      <td>2720</td>\n",
       "      <td>2699</td>\n",
       "      <td>2548</td>\n",
       "      <td>6</td>\n",
       "    </tr>\n",
       "    <tr>\n",
       "      <th>top</th>\n",
       "      <td>qmOD_1KRrpM</td>\n",
       "      <td>Science  Technology and Society</td>\n",
       "      <td>Science  Technology and Society  MOOC  NPTEL  ...</td>\n",
       "      <td>Science and Technology</td>\n",
       "    </tr>\n",
       "    <tr>\n",
       "      <th>freq</th>\n",
       "      <td>2</td>\n",
       "      <td>4</td>\n",
       "      <td>4</td>\n",
       "      <td>657</td>\n",
       "    </tr>\n",
       "  </tbody>\n",
       "</table>\n",
       "</div>"
      ],
      "text/plain": [
       "                  0                                1  \\\n",
       "count          2729                             2729   \n",
       "unique         2720                             2699   \n",
       "top     qmOD_1KRrpM  Science  Technology and Society   \n",
       "freq              2                                4   \n",
       "\n",
       "                                                        2  \\\n",
       "count                                                2581   \n",
       "unique                                               2548   \n",
       "top     Science  Technology and Society  MOOC  NPTEL  ...   \n",
       "freq                                                    4   \n",
       "\n",
       "                             3  \n",
       "count                     2729  \n",
       "unique                       6  \n",
       "top     Science and Technology  \n",
       "freq                       657  "
      ]
     },
     "execution_count": 5,
     "metadata": {},
     "output_type": "execute_result"
    }
   ],
   "source": [
    "df.describe()"
   ]
  },
  {
   "cell_type": "code",
   "execution_count": 7,
   "metadata": {},
   "outputs": [],
   "source": [
    "df.columns = [\"Video id \" ,\"Title\" , \"Description \" , \"Category\"]"
   ]
  },
  {
   "cell_type": "code",
   "execution_count": 8,
   "metadata": {},
   "outputs": [
    {
     "data": {
      "text/html": [
       "<div>\n",
       "<style>\n",
       "    .dataframe thead tr:only-child th {\n",
       "        text-align: right;\n",
       "    }\n",
       "\n",
       "    .dataframe thead th {\n",
       "        text-align: left;\n",
       "    }\n",
       "\n",
       "    .dataframe tbody tr th {\n",
       "        vertical-align: top;\n",
       "    }\n",
       "</style>\n",
       "<table border=\"1\" class=\"dataframe\">\n",
       "  <thead>\n",
       "    <tr style=\"text-align: right;\">\n",
       "      <th></th>\n",
       "      <th>Video id</th>\n",
       "      <th>Title</th>\n",
       "      <th>Description</th>\n",
       "      <th>Category</th>\n",
       "    </tr>\n",
       "  </thead>\n",
       "  <tbody>\n",
       "    <tr>\n",
       "      <th>0</th>\n",
       "      <td>13E5azGDK1k</td>\n",
       "      <td>FINE ART Music and Painting PEACEFUL SELECTION...</td>\n",
       "      <td>CALM MELODIES AND BEAUTIFUL PICTURESDebussy  M...</td>\n",
       "      <td>Art and Music</td>\n",
       "    </tr>\n",
       "    <tr>\n",
       "      <th>1</th>\n",
       "      <td>tsKlRF2Gw1s</td>\n",
       "      <td>The Great Masterpieces of Art &amp; Music</td>\n",
       "      <td>Skip the art museum and come experience Great...</td>\n",
       "      <td>Art and Music</td>\n",
       "    </tr>\n",
       "    <tr>\n",
       "      <th>2</th>\n",
       "      <td>rrJbuF6zOIk</td>\n",
       "      <td>babyfirst art and music</td>\n",
       "      <td>NaN</td>\n",
       "      <td>Art and Music</td>\n",
       "    </tr>\n",
       "    <tr>\n",
       "      <th>3</th>\n",
       "      <td>5mWjq2BsD9Q</td>\n",
       "      <td>Improvised Piano Music and Emotional Art Thera...</td>\n",
       "      <td>When watching this special episode of The Perf...</td>\n",
       "      <td>Art and Music</td>\n",
       "    </tr>\n",
       "    <tr>\n",
       "      <th>4</th>\n",
       "      <td>x7HPg9eZRY0</td>\n",
       "      <td>Sanjeev Abhyankar | Rakesh Chaurasia | Hindust...</td>\n",
       "      <td>Sanjeev Abhyankar and Rakesh Chaurasia rendere...</td>\n",
       "      <td>Art and Music</td>\n",
       "    </tr>\n",
       "  </tbody>\n",
       "</table>\n",
       "</div>"
      ],
      "text/plain": [
       "     Video id                                               Title  \\\n",
       "0  13E5azGDK1k  FINE ART Music and Painting PEACEFUL SELECTION...   \n",
       "1  tsKlRF2Gw1s              The Great Masterpieces of Art & Music   \n",
       "2  rrJbuF6zOIk                            babyfirst art and music   \n",
       "3  5mWjq2BsD9Q  Improvised Piano Music and Emotional Art Thera...   \n",
       "4  x7HPg9eZRY0  Sanjeev Abhyankar | Rakesh Chaurasia | Hindust...   \n",
       "\n",
       "                                        Description        Category  \n",
       "0  CALM MELODIES AND BEAUTIFUL PICTURESDebussy  M...  Art and Music  \n",
       "1  Skip the art museum and come experience Great...  Art and Music  \n",
       "2                                                NaN  Art and Music  \n",
       "3  When watching this special episode of The Perf...  Art and Music  \n",
       "4  Sanjeev Abhyankar and Rakesh Chaurasia rendere...  Art and Music  "
      ]
     },
     "execution_count": 8,
     "metadata": {},
     "output_type": "execute_result"
    }
   ],
   "source": [
    "df.head()"
   ]
  },
  {
   "cell_type": "code",
   "execution_count": 12,
   "metadata": {},
   "outputs": [],
   "source": [
    "text = \"hello my name is shailesh sharma and you have no rigth to underestimate me http://blogvlog.herokuapp.com  \\n http://google.com\""
   ]
  },
  {
   "cell_type": "code",
   "execution_count": 13,
   "metadata": {
    "collapsed": true
   },
   "outputs": [],
   "source": [
    "import re\n",
    "text = re.sub(r'^https?:\\/\\/.*[\\r\\n]*', '', text, flags=re.MULTILINE)"
   ]
  },
  {
   "cell_type": "code",
   "execution_count": null,
   "metadata": {
    "collapsed": true
   },
   "outputs": [],
   "source": []
  }
 ],
 "metadata": {
  "kernelspec": {
   "display_name": "Python 3",
   "language": "python",
   "name": "python3"
  },
  "language_info": {
   "codemirror_mode": {
    "name": "ipython",
    "version": 3
   },
   "file_extension": ".py",
   "mimetype": "text/x-python",
   "name": "python",
   "nbconvert_exporter": "python",
   "pygments_lexer": "ipython3",
   "version": "3.6.3"
  }
 },
 "nbformat": 4,
 "nbformat_minor": 2
}
